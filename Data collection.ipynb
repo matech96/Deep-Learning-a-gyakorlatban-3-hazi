{
 "cells": [
  {
   "cell_type": "code",
   "execution_count": 34,
   "metadata": {},
   "outputs": [],
   "source": [
    "import os\n",
    "import datetime"
   ]
  },
  {
   "cell_type": "code",
   "execution_count": 35,
   "metadata": {},
   "outputs": [],
   "source": [
    "DOWNLOAD_FOLDER = 'D:\\\\letöltések\\\\weather_data'\n",
    "os.chdir(\"C:\\\\Program Files (x86)\\\\Google\\\\Chrome\\\\Application\\\\\")"
   ]
  },
  {
   "cell_type": "code",
   "execution_count": 36,
   "metadata": {},
   "outputs": [],
   "source": [
    "if len(os.listdir(DOWNLOAD_FOLDER)) == 0:\n",
    "    base_command = '.\\\\chrome.exe \"http://www.amsz.hu/ws/includes/export.php?id=4&save=xls&year={}&month={}&day={}\"'\n",
    "    base_command.format(2018,5,20)\n",
    "    current_day = datetime.date(2008, 3, 2)  #year, month, day\n",
    "    today = datetime.date.today()\n",
    "    d_one_day = datetime.timedelta(days=1)\n",
    "    while current_day < today:\n",
    "        command = base_command.format(current_day.year, current_day.month, current_day.day)\n",
    "        os.system(command)\n",
    "        current_day += d_one_day"
   ]
  },
  {
   "cell_type": "code",
   "execution_count": null,
   "metadata": {},
   "outputs": [],
   "source": []
  }
 ],
 "metadata": {
  "kernelspec": {
   "display_name": "Python 3",
   "language": "python",
   "name": "python3"
  },
  "language_info": {
   "codemirror_mode": {
    "name": "ipython",
    "version": 3
   },
   "file_extension": ".py",
   "mimetype": "text/x-python",
   "name": "python",
   "nbconvert_exporter": "python",
   "pygments_lexer": "ipython3",
   "version": "3.6.5"
  }
 },
 "nbformat": 4,
 "nbformat_minor": 2
}
