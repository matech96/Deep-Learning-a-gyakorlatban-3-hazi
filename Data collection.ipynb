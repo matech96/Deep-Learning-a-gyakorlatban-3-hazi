{
 "cells": [
  {
   "cell_type": "markdown",
   "metadata": {},
   "source": [
    "# Info\n",
    "This notebook is about the process of dowloading the weather data from the internet.\n",
    "\n",
    "First import the packages."
   ]
  },
  {
   "cell_type": "code",
   "execution_count": 1,
   "metadata": {},
   "outputs": [],
   "source": [
    "import os\n",
    "import pandas as pd\n",
    "import datetime\n",
    "import csv"
   ]
  },
  {
   "cell_type": "markdown",
   "metadata": {},
   "source": [
    "Set the download folder of the Chrome browser."
   ]
  },
  {
   "cell_type": "code",
   "execution_count": 2,
   "metadata": {},
   "outputs": [],
   "source": [
    "DOWNLOAD_FOLDER = 'D:\\\\letöltések\\\\weather_data'"
   ]
  },
  {
   "cell_type": "markdown",
   "metadata": {},
   "source": [
    "Make sure you have an account for [amsz.hu](amsz.hu) and you are logged in, in the Chrome browser. Change the directories for your own system."
   ]
  },
  {
   "cell_type": "code",
   "execution_count": 3,
   "metadata": {},
   "outputs": [],
   "source": [
    "if len(os.listdir(DOWNLOAD_FOLDER)) == 0:\n",
    "    os.chdir(\"C:\\\\Program Files (x86)\\\\Google\\\\Chrome\\\\Application\\\\\") # Directory, where chrome.exe is located\n",
    "    # Command to dowload the excel file for a speciffic day.\n",
    "    base_command = '.\\\\chrome.exe \"http://www.amsz.hu/ws/includes/export.php?id=4&save=xls&year={}&month={}&day={}\"'\n",
    "    base_command.format(2018, 5, 20)\n",
    "    current_day = datetime.date(2008, 3, 2) # year, month, day # Day of the first record\n",
    "    today = datetime.date.today()\n",
    "    d_one_day = datetime.timedelta(days=1)\n",
    "    while current_day < today:\n",
    "        command = base_command.format(current_day.year, current_day.month, current_day.day)\n",
    "        os.system(command)\n",
    "        current_day += d_one_day\n",
    "    # Change back the working directory.\n",
    "    os.chdir('D:\\\\projects\\\\machine learning\\\\Deep Learning a gyakorlatban\\\\Deep-Learning-a-gyakorlatban-3-hazi')"
   ]
  },
  {
   "cell_type": "markdown",
   "metadata": {},
   "source": [
    "The data is now on the local machine, but it is difficult to read old excel format (.xls) with pandas. So lets convert those to csv."
   ]
  },
  {
   "cell_type": "code",
   "execution_count": 87,
   "metadata": {},
   "outputs": [],
   "source": [
    "DATA_DIR = 'data'\n",
    "CSV_DIR = os.path.join(DATA_DIR, 'amsz')\n",
    "if not os.path.exists(CSV_DIR):\n",
    "    os.mkdir(CSV_DIR)\n",
    "    for file_name in os.listdir(DOWNLOAD_FOLDER):\n",
    "        full_file_name = os.path.join(DOWNLOAD_FOLDER, file_name)\n",
    "        with xlrd.open_workbook(full_file_name, encoding_override='cp1252') as workbook:\n",
    "            sh = workbook.sheet_by_index(0)\n",
    "            result_file_name = os.path.join(CSV_DIR, file_name[:-3] + 'csv')\n",
    "            with open(result_file_name, 'w',  newline=\"\") as f:\n",
    "                c = csv.writer(f)\n",
    "                for r in range(sh.nrows):\n",
    "                    c.writerow(sh.row_values(r))"
   ]
  },
  {
   "cell_type": "markdown",
   "metadata": {},
   "source": [
    "Now we can read the data, but there are many entries in multiple times a day. Let's take the average of those."
   ]
  },
  {
   "cell_type": "code",
   "execution_count": 82,
   "metadata": {},
   "outputs": [],
   "source": [
    "def getMean(ser, metric_length):\n",
    "    # Filter empty enteries\n",
    "    ser = ser[ser.map(lambda x:x[:-metric_length] != '---.-' and x[:-metric_length] != '----.-' and x[:-metric_length] != '---' and x[:-metric_length] != '--' and x[:-metric_length] != ' ')]\n",
    "    return ser.map(lambda x: float(x[:-metric_length])).mean()"
   ]
  },
  {
   "cell_type": "code",
   "execution_count": 83,
   "metadata": {
    "scrolled": true
   },
   "outputs": [],
   "source": [
    "Temperature = []\n",
    "Humidity =  []\n",
    "Blast =  []\n",
    "Rain =  []\n",
    "WindSpeed =  []\n",
    "WindDirection =  []\n",
    "Day = []\n",
    "for file_name in os.listdir(CSV_DIR):\n",
    "    try:\n",
    "        full_file_name = os.path.join(CSV_DIR, file_name)\n",
    "        df = pd.read_csv(full_file_name, encoding='ansi', header=2).iloc[1:, :] # The first line after the header is empty\n",
    "        temperature = getMean(df.Homérséklet, 2)\n",
    "        humidity = getMean(df.Páratartalom, 1)\n",
    "        blast = getMean(df.Légnyomás, 4)\n",
    "        rain = getMean(df['Csapadék 24h'], 5)\n",
    "        windSpeed = getMean(df['Szélsebesség'], 5)\n",
    "        windDirection = getMean(df['Szélirány'], 1)\n",
    "        day = datetime.datetime.strptime(df.Idopont.iloc[0][:10], '%Y-%m-%d').date()\n",
    "        Temperature.append(temperature)\n",
    "        Humidity.append(humidity)\n",
    "        Blast.append(blast)\n",
    "        Rain.append(rain)\n",
    "        WindSpeed.append(windSpeed)\n",
    "        WindDirection.append(windDirection)\n",
    "        Day.append(day)\n",
    "    except Exception as e:\n",
    "        print(file_name)\n",
    "        print(e)"
   ]
  },
  {
   "cell_type": "markdown",
   "metadata": {},
   "source": [
    "Now that we have one entry for each day let's save the hole thing into a modern excel format (.xlsx). (.xlsx is smaller than .csv)"
   ]
  },
  {
   "cell_type": "code",
   "execution_count": 84,
   "metadata": {},
   "outputs": [],
   "source": [
    "df = pd.DataFrame(data={'Temperature': Temperature,\n",
    "                        'Humidity': Humidity,\n",
    "                        'Blast': Blast,\n",
    "                        'Rain': Rain,\n",
    "                        'WindSpeed': WindSpeed,\n",
    "                        'WindDirection':WindDirection},\n",
    "                     index=Day)"
   ]
  },
  {
   "cell_type": "code",
   "execution_count": 90,
   "metadata": {},
   "outputs": [],
   "source": [
    "df.to_excel(os.path.join(DATA_DIR, 'ansz.xlsx'))"
   ]
  }
 ],
 "metadata": {
  "kernelspec": {
   "display_name": "Python 3",
   "language": "python",
   "name": "python3"
  },
  "language_info": {
   "codemirror_mode": {
    "name": "ipython",
    "version": 3
   },
   "file_extension": ".py",
   "mimetype": "text/x-python",
   "name": "python",
   "nbconvert_exporter": "python",
   "pygments_lexer": "ipython3",
   "version": "3.6.5"
  }
 },
 "nbformat": 4,
 "nbformat_minor": 2
}
