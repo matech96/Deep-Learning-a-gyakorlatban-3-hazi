{
 "cells": [
  {
   "cell_type": "markdown",
   "metadata": {},
   "source": [
    "This notebook shows the process of training a small neural network for weather forecast, optimizing the hyperparametrs and making some predictions.\n",
    "\n",
    "First let's import some packages."
   ]
  },
  {
   "cell_type": "code",
   "execution_count": 1,
   "metadata": {},
   "outputs": [],
   "source": [
    "import pandas as pd\n",
    "import numpy as np\n",
    "import os\n",
    "import matplotlib.pyplot as plt\n",
    "import datetime\n",
    "from dataProcessing import getANSZData, DataProcessing"
   ]
  },
  {
   "cell_type": "markdown",
   "metadata": {},
   "source": [
    "Let's import the data and normalize it. The iput data consists of one mounths days temperature and date (year, mounth, day) from 45 days ago. Tha date is included because it has halfed validation loss. (The data is not shuffled before slicing.) My theory is that the seasonal information is usefull for the model. The year can be also importent since the temperature is getting warmer over time. So the model can predict in 1.5 mounths in advance. The input is 30*4 values. The output is the target days temperature."
   ]
  },
  {
   "cell_type": "code",
   "execution_count": 2,
   "metadata": {},
   "outputs": [],
   "source": [
    "train_data_many_day_x, train_data_many_day_y, dev_data_many_day_x, dev_data_many_day_y, \\\n",
    "        test_data_many_day_x, test_data_many_day_y, rest_x = getANSZData(n_days=30, columns=['Temperature'])\n",
    "pr = DataProcessing(train_data_many_day_x, train_data_many_day_y)\n",
    "train_data_many_day_x = pr.preprocessInput(train_data_many_day_x)\n",
    "dev_data_many_day_x = pr.preprocessInput(dev_data_many_day_x)\n",
    "test_data_many_day_x = pr.preprocessInput(test_data_many_day_x)\n",
    "train_data_many_day_y = pr.preprocessOutput(train_data_many_day_y)\n",
    "dev_data_many_day_y = pr.preprocessOutput(dev_data_many_day_y)\n",
    "test_data_many_day_y = pr.preprocessOutput(test_data_many_day_y)"
   ]
  },
  {
   "cell_type": "markdown",
   "metadata": {},
   "source": [
    "The model consist of some fully connected layers. It takes advantage of early stopping, dropout (0.5) and l2 regularization. This value is determined through experiments."
   ]
  },
  {
   "cell_type": "code",
   "execution_count": 3,
   "metadata": {},
   "outputs": [
    {
     "name": "stderr",
     "output_type": "stream",
     "text": [
      "C:\\ProgramData\\Anaconda3\\lib\\site-packages\\h5py\\__init__.py:36: FutureWarning: Conversion of the second argument of issubdtype from `float` to `np.floating` is deprecated. In future, it will be treated as `np.float64 == np.dtype(float).type`.\n",
      "  from ._conv import register_converters as _register_converters\n",
      "Using TensorFlow backend.\n"
     ]
    },
    {
     "name": "stdout",
     "output_type": "stream",
     "text": [
      "Restoring model weights from the end of the best epoch\n",
      "Epoch 00276: early stopping\n",
      "training was running for 9.399618 s\n",
      "Restoring model weights from the end of the best epoch\n",
      "Epoch 00331: early stopping\n",
      "training was running for 8.994802 s\n",
      "Restoring model weights from the end of the best epoch\n",
      "Epoch 00421: early stopping\n",
      "training was running for 10.179893 s\n",
      "Restoring model weights from the end of the best epoch\n",
      "Epoch 00554: early stopping\n",
      "training was running for 13.020773 s\n",
      "Restoring model weights from the end of the best epoch\n",
      "Epoch 00912: early stopping\n",
      "training was running for 20.223470 s\n",
      "Restoring model weights from the end of the best epoch\n",
      "Epoch 01581: early stopping\n",
      "training was running for 33.236406 s\n",
      "Restoring model weights from the end of the best epoch\n",
      "Epoch 01315: early stopping\n",
      "training was running for 30.250914 s\n",
      "Restoring model weights from the end of the best epoch\n",
      "Epoch 01680: early stopping\n",
      "training was running for 38.211000 s\n",
      "Restoring model weights from the end of the best epoch\n",
      "Epoch 01854: early stopping\n",
      "training was running for 42.735973 s\n",
      "Restoring model weights from the end of the best epoch\n",
      "Epoch 01768: early stopping\n",
      "training was running for 41.088680 s\n"
     ]
    }
   ],
   "source": [
    "from keras.models import Sequential\n",
    "from keras.layers import Dense, Dropout\n",
    "from keras.callbacks import EarlyStopping\n",
    "from keras import regularizers\n",
    "from ElapsedTime import ElapsedTime\n",
    "\n",
    "dropout = 0.5\n",
    "minL2 = -8\n",
    "maxL2 = 1\n",
    "l2Arr = np.logspace(minL2, maxL2, -(minL2-maxL2)+1)\n",
    "patience = 100\n",
    "batch_size = 4096\n",
    "early_stopping=EarlyStopping(patience=patience, restore_best_weights=True, verbose=1)\n",
    "\n",
    "modelArr = []\n",
    "hstArr = []\n",
    "for l2 in l2Arr:\n",
    "    input_size = train_data_many_day_x.shape[1]\n",
    "    model = Sequential()\n",
    "    model.add(Dense(units=input_size, activation='relu', input_dim=input_size, kernel_regularizer=regularizers.l2(l2)))\n",
    "    model.add(Dropout(dropout))\n",
    "    model.add(Dense(units=input_size, activation='relu', kernel_regularizer=regularizers.l2(l2)))\n",
    "    model.add(Dropout(dropout))\n",
    "    model.add(Dense(units=input_size, activation='relu', kernel_regularizer=regularizers.l2(l2)))\n",
    "    model.add(Dropout(dropout))\n",
    "    model.add(Dense(units=input_size, activation='relu', kernel_regularizer=regularizers.l2(l2)))\n",
    "    model.add(Dropout(dropout))\n",
    "    model.add(Dense(units=input_size, activation='relu', kernel_regularizer=regularizers.l2(l2)))\n",
    "    model.add(Dropout(dropout))\n",
    "    model.add(Dense(units=28, activation='relu', kernel_regularizer=regularizers.l2(l2)))\n",
    "    model.add(Dropout(dropout))\n",
    "    model.add(Dense(units=14, activation='relu', kernel_regularizer=regularizers.l2(l2)))\n",
    "    model.add(Dropout(dropout))\n",
    "    model.add(Dense(units=7, activation='relu', kernel_regularizer=regularizers.l2(l2)))\n",
    "    model.add(Dropout(dropout))\n",
    "    model.add(Dense(units=1, activation='sigmoid'))\n",
    "\n",
    "    model.compile(loss='mean_squared_error',\n",
    "                  optimizer='adam',\n",
    "                  metrics=['mean_squared_error'])\n",
    "    with ElapsedTime('training'):\n",
    "        hst = model.fit(train_data_many_day_x, train_data_many_day_y, validation_data=(dev_data_many_day_x, dev_data_many_day_y),\n",
    "                  verbose=0, epochs=10000, batch_size=batch_size, callbacks=[early_stopping], shuffle=True)\n",
    "    hst = hst.history\n",
    "    modelArr.append(model)\n",
    "    hstArr.append(hst)"
   ]
  },
  {
   "cell_type": "markdown",
   "metadata": {},
   "source": [
    "Let's evaluate the models on the dev set. It seem 1e-4 is the ideal l2 value."
   ]
  },
  {
   "cell_type": "code",
   "execution_count": 4,
   "metadata": {},
   "outputs": [
    {
     "name": "stdout",
     "output_type": "stream",
     "text": [
      "387/387 [==============================] - 0s 21us/step\n",
      "387/387 [==============================] - 0s 13us/step\n",
      "387/387 [==============================] - 0s 13us/step\n",
      "387/387 [==============================] - 0s 10us/step\n",
      "387/387 [==============================] - 0s 15us/step\n",
      "387/387 [==============================] - 0s 16us/step\n",
      "387/387 [==============================] - 0s 13us/step\n",
      "387/387 [==============================] - 0s 13us/step\n",
      "387/387 [==============================] - 0s 13us/step\n",
      "387/387 [==============================] - 0s 10us/step\n"
     ]
    },
    {
     "data": {
      "image/png": "[encoded data removed]",
      "text/plain": [
       "<Figure size 432x288 with 1 Axes>"
      ]
     },
     "metadata": {},
     "output_type": "display_data"
    }
   ],
   "source": [
    "lossIdx = np.argwhere(map(lambda x: x == 'val_loss', model.metrics_names))[0, 0]\n",
    "lossArr = []\n",
    "for model in modelArr:\n",
    "    metrics = model.evaluate(dev_data_many_day_x, dev_data_many_day_y, batch_size=batch_size)\n",
    "    lossArr.append(metrics[lossIdx])\n",
    "plt.plot(range(minL2, maxL2+1), lossArr)\n",
    "plt.show()"
   ]
  },
  {
   "cell_type": "markdown",
   "metadata": {},
   "source": [
    "If we plot the learning opf the optimal model, it seems that the val loss curve is under the training loss. I am nout sure aqbout the causes. Perhaps the recen weather is easier then the older."
   ]
  },
  {
   "cell_type": "code",
   "execution_count": 5,
   "metadata": {},
   "outputs": [
    {
     "name": "stdout",
     "output_type": "stream",
     "text": [
      "Minimal loss is 0.0142221599817276\n",
      "Minimal l2 regularization is 0.0001\n"
     ]
    },
    {
     "data": {
      "image/png": "[encoded data removed]",
      "text/plain": [
       "<Figure size 432x288 with 1 Axes>"
      ]
     },
     "metadata": {},
     "output_type": "display_data"
    }
   ],
   "source": [
    "minLoss = np.min(lossArr)\n",
    "print('Minimal loss is', minLoss)\n",
    "minLossIdx = np.argmin(lossArr)\n",
    "print('Minimal l2 regularization is', l2Arr[minLossIdx])\n",
    "hst = hstArr[minLossIdx]\n",
    "plt.plot(hst['loss'])\n",
    "plt.plot(hst['val_loss'])\n",
    "plt.legend(['loss', 'val_loss'])\n",
    "plt.show()"
   ]
  },
  {
   "cell_type": "markdown",
   "metadata": {},
   "source": [
    "Let's save the optimal model."
   ]
  },
  {
   "cell_type": "code",
   "execution_count": 6,
   "metadata": {},
   "outputs": [],
   "source": [
    "model = modelArr[minLossIdx]\n",
    "model.save('model.h5')"
   ]
  },
  {
   "cell_type": "markdown",
   "metadata": {},
   "source": [
    "You can use this cell to load my training."
   ]
  },
  {
   "cell_type": "code",
   "execution_count": 7,
   "metadata": {},
   "outputs": [],
   "source": [
    "# import keras\n",
    "# model = keras.models.load_model('model_original.h5')"
   ]
  },
  {
   "cell_type": "markdown",
   "metadata": {},
   "source": [
    "rest_x contains the recent weather data, but we dont have yeat the associated prediction. Let's see what the future holds!"
   ]
  },
  {
   "cell_type": "code",
   "execution_count": 8,
   "metadata": {},
   "outputs": [],
   "source": [
    "def predict_for_date(date):\n",
    "    n_days = 30\n",
    "    y_offest = 45\n",
    "    first_entery_date = date - datetime.timedelta(days=n_days + y_offest) # Date of the forst input day\n",
    "    # Find the temperature data index.\n",
    "    idx = np.where(np.all(rest_x[:, 0:3] == \\\n",
    "                          [first_entery_date.year,  first_entery_date.month,  first_entery_date.day], \n",
    "                          axis=1))[0][0]\n",
    "    # Make the perediction\n",
    "    normalized_x = pr.preprocessInput(rest_x[idx:idx+1])\n",
    "    prediction = model.predict(normalized_x)\n",
    "    return pr.postProcessOutput(prediction)[0][0]"
   ]
  },
  {
   "cell_type": "code",
   "execution_count": 9,
   "metadata": {},
   "outputs": [
    {
     "name": "stdout",
     "output_type": "stream",
     "text": [
      "Prediction for 2018-10-26 is 12.095372 celsius.\n",
      "Prediction for 2018-11-01 is 11.363732 celsius.\n",
      "Prediction for 2018-11-29 is 6.9100423 celsius.\n"
     ]
    }
   ],
   "source": [
    "date_arr = [datetime.date(2018, 10, 26),\n",
    "            datetime.date(2018, 11, 1),\n",
    "            datetime.date(2018, 11, 29)]\n",
    "for date in date_arr :\n",
    "    pred = predict_for_date(date)\n",
    "    print('Prediction for', date, 'is', pred, 'celsius.')"
   ]
  }
 ],
 "metadata": {
  "kernelspec": {
   "display_name": "Python 3",
   "language": "python",
   "name": "python3"
  },
  "language_info": {
   "codemirror_mode": {
    "name": "ipython",
    "version": 3
   },
   "file_extension": ".py",
   "mimetype": "text/x-python",
   "name": "python",
   "nbconvert_exporter": "python",
   "pygments_lexer": "ipython3",
   "version": "3.6.5"
  }
 },
 "nbformat": 4,
 "nbformat_minor": 2
}
