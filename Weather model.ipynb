{
 "cells": [
  {
   "cell_type": "code",
   "execution_count": 1,
   "metadata": {
    "collapsed": true
   },
   "outputs": [],
   "source": [
    "import pandas as pd\n",
    "import numpy as np\n",
    "import os\n",
    "import matplotlib.pyplot as plt\n",
    "from dataProcessing import getData, DataProcessing"
   ]
  },
  {
   "cell_type": "code",
   "execution_count": 2,
   "metadata": {
    "collapsed": true
   },
   "outputs": [],
   "source": [
    "train_data_many_day_x, train_data_many_day_y, dev_data_many_day_x, dev_data_many_day_y, \\\n",
    "            test_data_many_day_x, test_data_many_day_y = getData()"
   ]
  },
  {
   "cell_type": "code",
   "execution_count": 3,
   "metadata": {
    "collapsed": true
   },
   "outputs": [],
   "source": [
    "pr = DataProcessing(train_data_many_day_x, train_data_many_day_y)\n",
    "train_data_many_day_x = pr.preprocessInput(train_data_many_day_x)\n",
    "dev_data_many_day_x = pr.preprocessInput(dev_data_many_day_x)\n",
    "test_data_many_day_x = pr.preprocessInput(test_data_many_day_x)\n",
    "train_data_many_day_y = pr.preprocessOutput(train_data_many_day_y)\n",
    "dev_data_many_day_y = pr.preprocessOutput(dev_data_many_day_y)\n",
    "test_data_many_day_y = pr.preprocessOutput(test_data_many_day_y)"
   ]
  },
  {
   "cell_type": "code",
   "execution_count": 16,
   "metadata": {},
   "outputs": [
    {
     "name": "stdout",
     "output_type": "stream",
     "text": [
      "Train on 28119 samples, validate on 4097 samples\n",
      "Epoch 1/1000\n",
      " - 1s - loss: 0.0538 - mean_squared_error: 0.0530 - val_loss: 0.0323 - val_mean_squared_error: 0.0315\n",
      "Epoch 2/1000\n",
      " - 0s - loss: 0.0442 - mean_squared_error: 0.0434 - val_loss: 0.0344 - val_mean_squared_error: 0.0336\n",
      "Epoch 3/1000\n",
      " - 0s - loss: 0.0391 - mean_squared_error: 0.0383 - val_loss: 0.0359 - val_mean_squared_error: 0.0351\n",
      "Epoch 4/1000\n",
      " - 0s - loss: 0.0367 - mean_squared_error: 0.0359 - val_loss: 0.0354 - val_mean_squared_error: 0.0346\n",
      "Epoch 5/1000\n",
      " - 0s - loss: 0.0354 - mean_squared_error: 0.0346 - val_loss: 0.0344 - val_mean_squared_error: 0.0336\n",
      "Epoch 6/1000\n",
      " - 0s - loss: 0.0347 - mean_squared_error: 0.0339 - val_loss: 0.0333 - val_mean_squared_error: 0.0324\n",
      "Epoch 7/1000\n",
      " - 0s - loss: 0.0337 - mean_squared_error: 0.0329 - val_loss: 0.0318 - val_mean_squared_error: 0.0310\n",
      "Epoch 8/1000\n",
      " - 0s - loss: 0.0329 - mean_squared_error: 0.0321 - val_loss: 0.0309 - val_mean_squared_error: 0.0301\n",
      "Epoch 9/1000\n",
      " - 0s - loss: 0.0326 - mean_squared_error: 0.0318 - val_loss: 0.0305 - val_mean_squared_error: 0.0297\n",
      "Epoch 10/1000\n",
      " - 0s - loss: 0.0316 - mean_squared_error: 0.0308 - val_loss: 0.0300 - val_mean_squared_error: 0.0292\n",
      "Epoch 11/1000\n",
      " - 0s - loss: 0.0312 - mean_squared_error: 0.0304 - val_loss: 0.0294 - val_mean_squared_error: 0.0286\n",
      "Epoch 12/1000\n",
      " - 0s - loss: 0.0306 - mean_squared_error: 0.0298 - val_loss: 0.0290 - val_mean_squared_error: 0.0282\n",
      "Epoch 13/1000\n",
      " - 0s - loss: 0.0300 - mean_squared_error: 0.0292 - val_loss: 0.0282 - val_mean_squared_error: 0.0274\n",
      "Epoch 14/1000\n",
      " - 0s - loss: 0.0294 - mean_squared_error: 0.0286 - val_loss: 0.0277 - val_mean_squared_error: 0.0270\n",
      "Epoch 15/1000\n",
      " - 0s - loss: 0.0288 - mean_squared_error: 0.0280 - val_loss: 0.0270 - val_mean_squared_error: 0.0262\n",
      "Epoch 16/1000\n",
      " - 0s - loss: 0.0286 - mean_squared_error: 0.0278 - val_loss: 0.0263 - val_mean_squared_error: 0.0256\n",
      "Epoch 17/1000\n",
      " - 0s - loss: 0.0280 - mean_squared_error: 0.0273 - val_loss: 0.0260 - val_mean_squared_error: 0.0253\n",
      "Epoch 18/1000\n",
      " - 0s - loss: 0.0274 - mean_squared_error: 0.0267 - val_loss: 0.0257 - val_mean_squared_error: 0.0250\n",
      "Epoch 19/1000\n",
      " - 0s - loss: 0.0272 - mean_squared_error: 0.0264 - val_loss: 0.0254 - val_mean_squared_error: 0.0247\n",
      "Epoch 20/1000\n",
      " - 0s - loss: 0.0267 - mean_squared_error: 0.0260 - val_loss: 0.0253 - val_mean_squared_error: 0.0245\n",
      "Epoch 21/1000\n",
      " - 0s - loss: 0.0261 - mean_squared_error: 0.0253 - val_loss: 0.0244 - val_mean_squared_error: 0.0237\n",
      "Epoch 22/1000\n",
      " - 0s - loss: 0.0257 - mean_squared_error: 0.0250 - val_loss: 0.0237 - val_mean_squared_error: 0.0230\n",
      "Epoch 23/1000\n",
      " - 0s - loss: 0.0255 - mean_squared_error: 0.0248 - val_loss: 0.0238 - val_mean_squared_error: 0.0231\n",
      "Epoch 24/1000\n",
      " - 0s - loss: 0.0250 - mean_squared_error: 0.0243 - val_loss: 0.0233 - val_mean_squared_error: 0.0226\n",
      "Epoch 25/1000\n",
      " - 0s - loss: 0.0248 - mean_squared_error: 0.0240 - val_loss: 0.0226 - val_mean_squared_error: 0.0218\n",
      "Epoch 26/1000\n",
      " - 0s - loss: 0.0245 - mean_squared_error: 0.0238 - val_loss: 0.0224 - val_mean_squared_error: 0.0217\n",
      "Epoch 27/1000\n",
      " - 0s - loss: 0.0241 - mean_squared_error: 0.0234 - val_loss: 0.0216 - val_mean_squared_error: 0.0209\n",
      "Epoch 28/1000\n",
      " - 0s - loss: 0.0239 - mean_squared_error: 0.0232 - val_loss: 0.0213 - val_mean_squared_error: 0.0206\n",
      "Epoch 29/1000\n",
      " - 0s - loss: 0.0237 - mean_squared_error: 0.0230 - val_loss: 0.0207 - val_mean_squared_error: 0.0200\n",
      "Epoch 30/1000\n",
      " - 0s - loss: 0.0235 - mean_squared_error: 0.0228 - val_loss: 0.0204 - val_mean_squared_error: 0.0197\n",
      "Epoch 31/1000\n",
      " - 0s - loss: 0.0233 - mean_squared_error: 0.0225 - val_loss: 0.0200 - val_mean_squared_error: 0.0193\n",
      "Epoch 32/1000\n",
      " - 0s - loss: 0.0229 - mean_squared_error: 0.0222 - val_loss: 0.0199 - val_mean_squared_error: 0.0192\n",
      "Epoch 33/1000\n",
      " - 0s - loss: 0.0227 - mean_squared_error: 0.0220 - val_loss: 0.0183 - val_mean_squared_error: 0.0176\n",
      "Epoch 34/1000\n",
      " - 0s - loss: 0.0229 - mean_squared_error: 0.0222 - val_loss: 0.0189 - val_mean_squared_error: 0.0182\n",
      "Epoch 35/1000\n",
      " - 0s - loss: 0.0222 - mean_squared_error: 0.0215 - val_loss: 0.0193 - val_mean_squared_error: 0.0186\n",
      "Epoch 36/1000\n",
      " - 0s - loss: 0.0220 - mean_squared_error: 0.0213 - val_loss: 0.0167 - val_mean_squared_error: 0.0160\n",
      "Epoch 37/1000\n",
      " - 0s - loss: 0.0219 - mean_squared_error: 0.0212 - val_loss: 0.0178 - val_mean_squared_error: 0.0171\n",
      "Epoch 38/1000\n",
      " - 0s - loss: 0.0219 - mean_squared_error: 0.0212 - val_loss: 0.0172 - val_mean_squared_error: 0.0165\n",
      "Epoch 39/1000\n",
      " - 0s - loss: 0.0216 - mean_squared_error: 0.0209 - val_loss: 0.0173 - val_mean_squared_error: 0.0166\n",
      "Epoch 40/1000\n",
      " - 0s - loss: 0.0215 - mean_squared_error: 0.0208 - val_loss: 0.0163 - val_mean_squared_error: 0.0156\n",
      "Epoch 41/1000\n",
      " - 0s - loss: 0.0212 - mean_squared_error: 0.0205 - val_loss: 0.0170 - val_mean_squared_error: 0.0163\n",
      "Epoch 42/1000\n",
      " - 0s - loss: 0.0211 - mean_squared_error: 0.0204 - val_loss: 0.0161 - val_mean_squared_error: 0.0154\n",
      "Epoch 43/1000\n",
      " - 0s - loss: 0.0209 - mean_squared_error: 0.0202 - val_loss: 0.0151 - val_mean_squared_error: 0.0144\n",
      "Epoch 44/1000\n",
      " - 0s - loss: 0.0209 - mean_squared_error: 0.0203 - val_loss: 0.0149 - val_mean_squared_error: 0.0142\n",
      "Epoch 45/1000\n",
      " - 0s - loss: 0.0208 - mean_squared_error: 0.0202 - val_loss: 0.0154 - val_mean_squared_error: 0.0147\n",
      "Epoch 46/1000\n",
      " - 0s - loss: 0.0207 - mean_squared_error: 0.0200 - val_loss: 0.0145 - val_mean_squared_error: 0.0138\n",
      "Epoch 47/1000\n",
      " - 0s - loss: 0.0204 - mean_squared_error: 0.0197 - val_loss: 0.0132 - val_mean_squared_error: 0.0125\n",
      "Epoch 48/1000\n",
      " - 0s - loss: 0.0205 - mean_squared_error: 0.0199 - val_loss: 0.0147 - val_mean_squared_error: 0.0141\n",
      "Epoch 49/1000\n",
      " - 0s - loss: 0.0202 - mean_squared_error: 0.0196 - val_loss: 0.0136 - val_mean_squared_error: 0.0129\n",
      "Epoch 50/1000\n",
      " - 0s - loss: 0.0199 - mean_squared_error: 0.0193 - val_loss: 0.0129 - val_mean_squared_error: 0.0123\n",
      "Epoch 51/1000\n",
      " - 0s - loss: 0.0201 - mean_squared_error: 0.0194 - val_loss: 0.0135 - val_mean_squared_error: 0.0128\n",
      "Epoch 52/1000\n",
      " - 0s - loss: 0.0199 - mean_squared_error: 0.0192 - val_loss: 0.0125 - val_mean_squared_error: 0.0119\n",
      "Epoch 53/1000\n",
      " - 0s - loss: 0.0197 - mean_squared_error: 0.0191 - val_loss: 0.0123 - val_mean_squared_error: 0.0116\n",
      "Epoch 54/1000\n",
      " - 0s - loss: 0.0197 - mean_squared_error: 0.0190 - val_loss: 0.0129 - val_mean_squared_error: 0.0122\n",
      "Epoch 55/1000\n",
      " - 0s - loss: 0.0197 - mean_squared_error: 0.0190 - val_loss: 0.0124 - val_mean_squared_error: 0.0117\n",
      "Epoch 56/1000\n",
      " - 0s - loss: 0.0195 - mean_squared_error: 0.0189 - val_loss: 0.0124 - val_mean_squared_error: 0.0117\n",
      "Epoch 57/1000\n",
      " - 0s - loss: 0.0193 - mean_squared_error: 0.0186 - val_loss: 0.0115 - val_mean_squared_error: 0.0109\n",
      "Epoch 58/1000\n",
      " - 0s - loss: 0.0192 - mean_squared_error: 0.0186 - val_loss: 0.0118 - val_mean_squared_error: 0.0112\n",
      "Epoch 59/1000\n",
      " - 0s - loss: 0.0192 - mean_squared_error: 0.0185 - val_loss: 0.0120 - val_mean_squared_error: 0.0114\n",
      "Epoch 60/1000\n",
      " - 0s - loss: 0.0193 - mean_squared_error: 0.0186 - val_loss: 0.0111 - val_mean_squared_error: 0.0104\n",
      "Epoch 61/1000\n",
      " - 0s - loss: 0.0191 - mean_squared_error: 0.0185 - val_loss: 0.0114 - val_mean_squared_error: 0.0108\n",
      "Epoch 62/1000\n",
      " - 0s - loss: 0.0191 - mean_squared_error: 0.0185 - val_loss: 0.0121 - val_mean_squared_error: 0.0115\n",
      "Epoch 63/1000\n",
      " - 0s - loss: 0.0189 - mean_squared_error: 0.0183 - val_loss: 0.0115 - val_mean_squared_error: 0.0109\n",
      "Epoch 64/1000\n",
      " - 0s - loss: 0.0186 - mean_squared_error: 0.0180 - val_loss: 0.0109 - val_mean_squared_error: 0.0103\n",
      "Epoch 65/1000\n",
      " - 0s - loss: 0.0186 - mean_squared_error: 0.0180 - val_loss: 0.0102 - val_mean_squared_error: 0.0096\n",
      "Epoch 66/1000\n",
      " - 0s - loss: 0.0186 - mean_squared_error: 0.0180 - val_loss: 0.0105 - val_mean_squared_error: 0.0099\n",
      "Epoch 67/1000\n",
      " - 0s - loss: 0.0186 - mean_squared_error: 0.0180 - val_loss: 0.0111 - val_mean_squared_error: 0.0105\n",
      "Epoch 68/1000\n",
      " - 0s - loss: 0.0185 - mean_squared_error: 0.0179 - val_loss: 0.0101 - val_mean_squared_error: 0.0095\n",
      "Epoch 69/1000\n",
      " - 0s - loss: 0.0185 - mean_squared_error: 0.0178 - val_loss: 0.0099 - val_mean_squared_error: 0.0092\n",
      "Epoch 70/1000\n",
      " - 0s - loss: 0.0185 - mean_squared_error: 0.0178 - val_loss: 0.0106 - val_mean_squared_error: 0.0100\n",
      "Epoch 71/1000\n",
      " - 0s - loss: 0.0183 - mean_squared_error: 0.0177 - val_loss: 0.0098 - val_mean_squared_error: 0.0092\n"
     ]
    },
    {
     "name": "stdout",
     "output_type": "stream",
     "text": [
      "Epoch 72/1000\n",
      " - 0s - loss: 0.0182 - mean_squared_error: 0.0175 - val_loss: 0.0096 - val_mean_squared_error: 0.0090\n",
      "Epoch 73/1000\n",
      " - 0s - loss: 0.0180 - mean_squared_error: 0.0174 - val_loss: 0.0101 - val_mean_squared_error: 0.0095\n",
      "Epoch 74/1000\n",
      " - 0s - loss: 0.0180 - mean_squared_error: 0.0174 - val_loss: 0.0102 - val_mean_squared_error: 0.0096\n",
      "Epoch 75/1000\n",
      " - 0s - loss: 0.0179 - mean_squared_error: 0.0172 - val_loss: 0.0098 - val_mean_squared_error: 0.0092\n",
      "Epoch 76/1000\n",
      " - 0s - loss: 0.0182 - mean_squared_error: 0.0175 - val_loss: 0.0094 - val_mean_squared_error: 0.0088\n",
      "Epoch 77/1000\n",
      " - 0s - loss: 0.0178 - mean_squared_error: 0.0172 - val_loss: 0.0096 - val_mean_squared_error: 0.0090\n",
      "Epoch 78/1000\n",
      " - 0s - loss: 0.0181 - mean_squared_error: 0.0175 - val_loss: 0.0106 - val_mean_squared_error: 0.0100\n",
      "Epoch 79/1000\n",
      " - 0s - loss: 0.0180 - mean_squared_error: 0.0174 - val_loss: 0.0098 - val_mean_squared_error: 0.0092\n",
      "Epoch 80/1000\n",
      " - 0s - loss: 0.0178 - mean_squared_error: 0.0172 - val_loss: 0.0093 - val_mean_squared_error: 0.0087\n",
      "Epoch 81/1000\n",
      " - 0s - loss: 0.0177 - mean_squared_error: 0.0171 - val_loss: 0.0093 - val_mean_squared_error: 0.0087\n",
      "Epoch 82/1000\n",
      " - 0s - loss: 0.0176 - mean_squared_error: 0.0170 - val_loss: 0.0093 - val_mean_squared_error: 0.0087\n",
      "Epoch 83/1000\n",
      " - 0s - loss: 0.0176 - mean_squared_error: 0.0170 - val_loss: 0.0094 - val_mean_squared_error: 0.0088\n",
      "Epoch 84/1000\n",
      " - 0s - loss: 0.0177 - mean_squared_error: 0.0171 - val_loss: 0.0089 - val_mean_squared_error: 0.0083\n",
      "Epoch 85/1000\n",
      " - 0s - loss: 0.0175 - mean_squared_error: 0.0170 - val_loss: 0.0088 - val_mean_squared_error: 0.0082\n",
      "Epoch 86/1000\n",
      " - 0s - loss: 0.0175 - mean_squared_error: 0.0169 - val_loss: 0.0083 - val_mean_squared_error: 0.0077\n",
      "Epoch 87/1000\n",
      " - 0s - loss: 0.0177 - mean_squared_error: 0.0171 - val_loss: 0.0089 - val_mean_squared_error: 0.0083\n",
      "Epoch 88/1000\n",
      " - 0s - loss: 0.0175 - mean_squared_error: 0.0169 - val_loss: 0.0096 - val_mean_squared_error: 0.0090\n",
      "Epoch 89/1000\n",
      " - 0s - loss: 0.0174 - mean_squared_error: 0.0168 - val_loss: 0.0092 - val_mean_squared_error: 0.0086\n",
      "Epoch 90/1000\n",
      " - 0s - loss: 0.0175 - mean_squared_error: 0.0169 - val_loss: 0.0090 - val_mean_squared_error: 0.0084\n",
      "Epoch 91/1000\n",
      " - 0s - loss: 0.0172 - mean_squared_error: 0.0167 - val_loss: 0.0084 - val_mean_squared_error: 0.0078\n",
      "Epoch 92/1000\n",
      " - 0s - loss: 0.0170 - mean_squared_error: 0.0164 - val_loss: 0.0082 - val_mean_squared_error: 0.0077\n",
      "Epoch 93/1000\n",
      " - 0s - loss: 0.0172 - mean_squared_error: 0.0166 - val_loss: 0.0085 - val_mean_squared_error: 0.0079\n",
      "Epoch 94/1000\n",
      " - 0s - loss: 0.0172 - mean_squared_error: 0.0166 - val_loss: 0.0092 - val_mean_squared_error: 0.0086\n",
      "Epoch 95/1000\n",
      " - 0s - loss: 0.0171 - mean_squared_error: 0.0165 - val_loss: 0.0090 - val_mean_squared_error: 0.0084\n",
      "Epoch 96/1000\n",
      " - 0s - loss: 0.0170 - mean_squared_error: 0.0164 - val_loss: 0.0089 - val_mean_squared_error: 0.0083\n",
      "Epoch 97/1000\n",
      " - 0s - loss: 0.0170 - mean_squared_error: 0.0164 - val_loss: 0.0086 - val_mean_squared_error: 0.0080\n",
      "Epoch 98/1000\n",
      " - 0s - loss: 0.0169 - mean_squared_error: 0.0163 - val_loss: 0.0086 - val_mean_squared_error: 0.0080\n",
      "Epoch 99/1000\n",
      " - 0s - loss: 0.0170 - mean_squared_error: 0.0164 - val_loss: 0.0086 - val_mean_squared_error: 0.0080\n",
      "Epoch 100/1000\n",
      " - 0s - loss: 0.0168 - mean_squared_error: 0.0163 - val_loss: 0.0088 - val_mean_squared_error: 0.0083\n",
      "Epoch 101/1000\n",
      " - 0s - loss: 0.0169 - mean_squared_error: 0.0164 - val_loss: 0.0085 - val_mean_squared_error: 0.0080\n",
      "Epoch 102/1000\n",
      " - 0s - loss: 0.0168 - mean_squared_error: 0.0162 - val_loss: 0.0085 - val_mean_squared_error: 0.0079\n",
      "Restoring model weights from the end of the best epoch\n",
      "Epoch 00102: early stopping\n",
      "training was running for 19.699947 s\n"
     ]
    }
   ],
   "source": [
    "from keras.models import Sequential\n",
    "from keras.layers import Dense, Dropout\n",
    "from keras.callbacks import EarlyStopping\n",
    "from keras import regularizers\n",
    "from ElapsedTime import ElapsedTime\n",
    "\n",
    "dropout = 0.5\n",
    "l2 = 1e-5\n",
    "patience=10\n",
    "early_stopping=EarlyStopping(patience=patience, restore_best_weights=True, verbose=1)\n",
    "\n",
    "model = Sequential()\n",
    "model.add(Dense(units=28, activation='relu', input_dim=4*7, kernel_regularizer=regularizers.l2(l2)))\n",
    "model.add(Dropout(dropout))\n",
    "model.add(Dense(units=28, activation='relu', kernel_regularizer=regularizers.l2(l2)))\n",
    "model.add(Dropout(dropout))\n",
    "model.add(Dense(units=14, activation='relu', kernel_regularizer=regularizers.l2(l2)))\n",
    "model.add(Dropout(dropout))\n",
    "model.add(Dense(units=7, activation='relu', kernel_regularizer=regularizers.l2(l2)))\n",
    "model.add(Dropout(dropout))\n",
    "model.add(Dense(units=1, activation='sigmoid'))\n",
    "\n",
    "model.compile(loss='mean_squared_error',\n",
    "              optimizer='adam',\n",
    "              metrics=['mean_squared_error'])\n",
    "with ElapsedTime('training'):\n",
    "    hst = model.fit(train_data_many_day_x, train_data_many_day_y, validation_data=(dev_data_many_day_x, dev_data_many_day_y),\n",
    "              verbose=2, epochs=1000, batch_size=4096, callbacks=[early_stopping])\n",
    "hst = hst.history"
   ]
  },
  {
   "cell_type": "code",
   "execution_count": 17,
   "metadata": {},
   "outputs": [
    {
     "name": "stdout",
     "output_type": "stream",
     "text": [
      "4097/4097 [==============================] - 0s 42us/step\n"
     ]
    },
    {
     "data": {
      "text/plain": [
       "[0.0082437919795695924, 0.0076605342168653183]"
      ]
     },
     "execution_count": 17,
     "metadata": {},
     "output_type": "execute_result"
    }
   ],
   "source": [
    "model.evaluate(dev_data_many_day_x, dev_data_many_day_y)"
   ]
  },
  {
   "cell_type": "code",
   "execution_count": 18,
   "metadata": {},
   "outputs": [
    {
     "data": {
      "image/png": "[encoded data removed]",
      "text/plain": [
       "<matplotlib.figure.Figure at 0x21076353a20>"
      ]
     },
     "metadata": {},
     "output_type": "display_data"
    }
   ],
   "source": [
    "plt.plot(hst['loss'])\n",
    "plt.plot(hst['val_loss'])\n",
    "plt.show()"
   ]
  },
  {
   "cell_type": "code",
   "execution_count": 19,
   "metadata": {},
   "outputs": [
    {
     "name": "stdout",
     "output_type": "stream",
     "text": [
      "_________________________________________________________________\n",
      "Layer (type)                 Output Shape              Param #   \n",
      "=================================================================\n",
      "dense_6 (Dense)              (None, 28)                812       \n",
      "_________________________________________________________________\n",
      "dropout_5 (Dropout)          (None, 28)                0         \n",
      "_________________________________________________________________\n",
      "dense_7 (Dense)              (None, 28)                812       \n",
      "_________________________________________________________________\n",
      "dropout_6 (Dropout)          (None, 28)                0         \n",
      "_________________________________________________________________\n",
      "dense_8 (Dense)              (None, 14)                406       \n",
      "_________________________________________________________________\n",
      "dropout_7 (Dropout)          (None, 14)                0         \n",
      "_________________________________________________________________\n",
      "dense_9 (Dense)              (None, 7)                 105       \n",
      "_________________________________________________________________\n",
      "dropout_8 (Dropout)          (None, 7)                 0         \n",
      "_________________________________________________________________\n",
      "dense_10 (Dense)             (None, 1)                 8         \n",
      "=================================================================\n",
      "Total params: 2,143\n",
      "Trainable params: 2,143\n",
      "Non-trainable params: 0\n",
      "_________________________________________________________________\n"
     ]
    }
   ],
   "source": [
    "model.summary()"
   ]
  },
  {
   "cell_type": "code",
   "execution_count": 20,
   "metadata": {},
   "outputs": [
    {
     "name": "stdout",
     "output_type": "stream",
     "text": [
      "4097/4097 [==============================] - 0s 41us/step\n",
      "7954/7954 [==============================] - 0s 41us/step\n"
     ]
    },
    {
     "data": {
      "text/plain": [
       "[0.007375836863796263, 0.0067925790358997033]"
      ]
     },
     "execution_count": 20,
     "metadata": {},
     "output_type": "execute_result"
    }
   ],
   "source": [
    "model.evaluate(dev_data_many_day_x, dev_data_many_day_y)\n",
    "model.evaluate(test_data_many_day_x, test_data_many_day_y)"
   ]
  },
  {
   "cell_type": "code",
   "execution_count": 22,
   "metadata": {},
   "outputs": [
    {
     "data": {
      "text/plain": [
       "array([[ 17.4682827 ],\n",
       "       [  9.94688606],\n",
       "       [  9.94688606],\n",
       "       ..., \n",
       "       [ 23.24634933],\n",
       "       [  9.94688606],\n",
       "       [  9.94688606]], dtype=float32)"
      ]
     },
     "execution_count": 22,
     "metadata": {},
     "output_type": "execute_result"
    }
   ],
   "source": [
    "pr.postProcessOutput(model.predict(test_data_many_day_x))"
   ]
  },
  {
   "cell_type": "code",
   "execution_count": 10,
   "metadata": {},
   "outputs": [
    {
     "data": {
      "text/plain": [
       "array([[ 19.8],\n",
       "       [  2.7],\n",
       "       [  1.3],\n",
       "       ..., \n",
       "       [ 25.6],\n",
       "       [  2.8],\n",
       "       [  0.2]])"
      ]
     },
     "execution_count": 10,
     "metadata": {},
     "output_type": "execute_result"
    }
   ],
   "source": [
    "pr.postProcessOutput(test_data_many_day_y)"
   ]
  }
 ],
 "metadata": {
  "kernelspec": {
   "display_name": "Python 3",
   "language": "python",
   "name": "python3"
  },
  "language_info": {
   "codemirror_mode": {
    "name": "ipython",
    "version": 3
   },
   "file_extension": ".py",
   "mimetype": "text/x-python",
   "name": "python",
   "nbconvert_exporter": "python",
   "pygments_lexer": "ipython3",
   "version": "3.6.3"
  }
 },
 "nbformat": 4,
 "nbformat_minor": 2
}
